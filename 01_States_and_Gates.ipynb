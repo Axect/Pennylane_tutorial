{
 "cells": [
  {
   "cell_type": "code",
   "execution_count": 1,
   "id": "21ffeb6e",
   "metadata": {},
   "outputs": [],
   "source": [
    "import pennylane as qml\n",
    "from pennylane import numpy as np\n",
    "import matplotlib.pyplot as plt"
   ]
  },
  {
   "cell_type": "code",
   "execution_count": 2,
   "id": "5c456b40",
   "metadata": {},
   "outputs": [],
   "source": [
    "dev1 = qml.device('default.qubit', wires=1)\n",
    "dev2 = qml.device('default.qubit', wires=2)"
   ]
  },
  {
   "cell_type": "code",
   "execution_count": 3,
   "id": "c2b0a9c3",
   "metadata": {},
   "outputs": [],
   "source": [
    "qml.drawer.use_style('sketch')"
   ]
  },
  {
   "cell_type": "markdown",
   "id": "cf312c3e",
   "metadata": {},
   "source": [
    "## Basic state"
   ]
  },
  {
   "cell_type": "markdown",
   "id": "6ad00c20",
   "metadata": {},
   "source": [
    "For 1 qubit,\n",
    "$$\n",
    "\\begin{gathered}\n",
    "\\left| 0 \\right> = (1 0) \\\\\n",
    "\\left| 1 \\right> = (0 1)\n",
    "\\end{gathered}\n",
    "$$"
   ]
  },
  {
   "cell_type": "code",
   "execution_count": 12,
   "id": "d6a61b19",
   "metadata": {},
   "outputs": [],
   "source": [
    "@qml.qnode(dev1)\n",
    "def zero():\n",
    "    return qml.probs(wires=0)\n",
    "\n",
    "@qml.qnode(dev1)\n",
    "def one():\n",
    "    qml.PauliX(wires=0)\n",
    "    return qml.probs(wires=0)"
   ]
  },
  {
   "cell_type": "code",
   "execution_count": 13,
   "id": "5d82d152",
   "metadata": {},
   "outputs": [
    {
     "data": {
      "image/png": "[encoded data removed]",
      "text/plain": [
       "<Figure size 400x200 with 1 Axes>"
      ]
     },
     "metadata": {},
     "output_type": "display_data"
    }
   ],
   "source": [
    "fig, ax = qml.draw_mpl(zero)()\n",
    "plt.show()"
   ]
  },
  {
   "cell_type": "code",
   "execution_count": 14,
   "id": "6a36c8bc",
   "metadata": {},
   "outputs": [
    {
     "data": {
      "image/png": "[encoded data removed]",
      "text/plain": [
       "<Figure size 400x200 with 1 Axes>"
      ]
     },
     "metadata": {},
     "output_type": "display_data"
    }
   ],
   "source": [
    "fig, ax = qml.draw_mpl(one)()\n",
    "plt.show()"
   ]
  },
  {
   "cell_type": "code",
   "execution_count": 15,
   "id": "e3c6ee87",
   "metadata": {},
   "outputs": [
    {
     "data": {
      "text/plain": [
       "tensor([1., 0.], requires_grad=True)"
      ]
     },
     "execution_count": 15,
     "metadata": {},
     "output_type": "execute_result"
    }
   ],
   "source": [
    "zero()"
   ]
  },
  {
   "cell_type": "code",
   "execution_count": 16,
   "id": "255a0d52",
   "metadata": {},
   "outputs": [
    {
     "data": {
      "text/plain": [
       "tensor([0., 1.], requires_grad=True)"
      ]
     },
     "execution_count": 16,
     "metadata": {},
     "output_type": "execute_result"
    }
   ],
   "source": [
    "one()"
   ]
  },
  {
   "cell_type": "markdown",
   "id": "49869c4f",
   "metadata": {},
   "source": [
    "For 2 qubit,\n",
    "\n",
    "$$\n",
    "\\begin{gathered}\n",
    "\\left| 00 \\right> = (1 0 0 0) \\\\\n",
    "\\left| 01 \\right> = (0 1 0 0) \\\\\n",
    "\\left| 10 \\right> = (0 0 1 0) \\\\\n",
    "\\left| 11 \\right> = (0 0 0 1)\n",
    "\\end{gathered}\n",
    "$$"
   ]
  },
  {
   "cell_type": "code",
   "execution_count": 17,
   "id": "8b7eb1ce",
   "metadata": {},
   "outputs": [],
   "source": [
    "@qml.qnode(dev2)\n",
    "def zerozero():\n",
    "    return qml.probs(wires=[0,1])\n",
    "\n",
    "@qml.qnode(dev2)\n",
    "def zeroone():\n",
    "    qml.PauliX(wires=1)\n",
    "    return qml.probs(wires=[0,1])\n",
    "\n",
    "@qml.qnode(dev2)\n",
    "def onezero():\n",
    "    qml.PauliX(wires=0)\n",
    "    return qml.probs(wires=[0,1])\n",
    "\n",
    "@qml.qnode(dev2)\n",
    "def oneone():\n",
    "    qml.PauliX(wires=0)\n",
    "    qml.PauliX(wires=1)\n",
    "    return qml.probs(wires=[0,1])"
   ]
  },
  {
   "cell_type": "code",
   "execution_count": 18,
   "id": "6a08968e",
   "metadata": {},
   "outputs": [
    {
     "data": {
      "text/plain": [
       "tensor([1., 0., 0., 0.], requires_grad=True)"
      ]
     },
     "execution_count": 18,
     "metadata": {},
     "output_type": "execute_result"
    }
   ],
   "source": [
    "zerozero()"
   ]
  },
  {
   "cell_type": "code",
   "execution_count": 19,
   "id": "3d4ccde8",
   "metadata": {},
   "outputs": [
    {
     "data": {
      "text/plain": [
       "tensor([0., 1., 0., 0.], requires_grad=True)"
      ]
     },
     "execution_count": 19,
     "metadata": {},
     "output_type": "execute_result"
    }
   ],
   "source": [
    "zeroone()"
   ]
  },
  {
   "cell_type": "code",
   "execution_count": 20,
   "id": "26a93e8d",
   "metadata": {},
   "outputs": [
    {
     "data": {
      "text/plain": [
       "tensor([0., 0., 1., 0.], requires_grad=True)"
      ]
     },
     "execution_count": 20,
     "metadata": {},
     "output_type": "execute_result"
    }
   ],
   "source": [
    "onezero()"
   ]
  },
  {
   "cell_type": "code",
   "execution_count": 22,
   "id": "d56e1a24",
   "metadata": {},
   "outputs": [
    {
     "data": {
      "image/png": "[encoded data removed]",
      "text/plain": [
       "<Figure size 400x300 with 1 Axes>"
      ]
     },
     "metadata": {},
     "output_type": "display_data"
    }
   ],
   "source": [
    "fig, ax = qml.draw_mpl(oneone)()\n",
    "plt.show()"
   ]
  },
  {
   "cell_type": "code",
   "execution_count": 21,
   "id": "fadcd597",
   "metadata": {},
   "outputs": [
    {
     "data": {
      "text/plain": [
       "tensor([0., 0., 0., 1.], requires_grad=True)"
      ]
     },
     "execution_count": 21,
     "metadata": {},
     "output_type": "execute_result"
    }
   ],
   "source": [
    "oneone()"
   ]
  },
  {
   "cell_type": "markdown",
   "id": "4330edee",
   "metadata": {},
   "source": [
    "## Hadamard Gate"
   ]
  },
  {
   "cell_type": "markdown",
   "id": "f8040b25",
   "metadata": {},
   "source": [
    "$$\n",
    "H\\left|x\\right> = \\frac{1}{\\sqrt{2}}\\left(\\left|0\\right> + (-1)^x \\left|1\\right>\\right)\n",
    "$$"
   ]
  },
  {
   "cell_type": "code",
   "execution_count": 37,
   "id": "5410ee8d",
   "metadata": {},
   "outputs": [],
   "source": [
    "@qml.qnode(dev1)\n",
    "def hadamard_gate(x):\n",
    "    qml.BasisStatePreparation(x, wires=[0])\n",
    "    qml.Hadamard(wires=0)\n",
    "    return qml.probs(wires=0)"
   ]
  },
  {
   "cell_type": "code",
   "execution_count": 40,
   "id": "eed743ef",
   "metadata": {},
   "outputs": [],
   "source": [
    "x_zero = [0]\n",
    "x_one  = [1]"
   ]
  },
  {
   "cell_type": "code",
   "execution_count": 41,
   "id": "cc025310",
   "metadata": {},
   "outputs": [
    {
     "data": {
      "image/png": "[encoded data removed]",
      "text/plain": [
       "<Figure size 500x200 with 1 Axes>"
      ]
     },
     "metadata": {},
     "output_type": "display_data"
    }
   ],
   "source": [
    "fig, ax = qml.draw_mpl(hadamard_gate)(x_zero)\n",
    "plt.show()"
   ]
  },
  {
   "cell_type": "code",
   "execution_count": 42,
   "id": "e2972d8c",
   "metadata": {},
   "outputs": [
    {
     "data": {
      "text/plain": [
       "tensor([0.5, 0.5], requires_grad=True)"
      ]
     },
     "execution_count": 42,
     "metadata": {},
     "output_type": "execute_result"
    }
   ],
   "source": [
    "hadamard_gate(x_zero)"
   ]
  },
  {
   "cell_type": "code",
   "execution_count": 43,
   "id": "b66d5c13",
   "metadata": {},
   "outputs": [
    {
     "data": {
      "text/plain": [
       "tensor([0.5, 0.5], requires_grad=True)"
      ]
     },
     "execution_count": 43,
     "metadata": {},
     "output_type": "execute_result"
    }
   ],
   "source": [
    "hadamard_gate(x_one)"
   ]
  },
  {
   "cell_type": "code",
   "execution_count": 49,
   "id": "0dfae4a3",
   "metadata": {},
   "outputs": [],
   "source": [
    "@qml.qnode(dev1)\n",
    "def hadamard_gate_comp(x):\n",
    "    x = x / np.linalg.norm(x)\n",
    "    qml.QubitStateVector(x, wires=[0])\n",
    "    qml.Hadamard(wires=0)\n",
    "    return qml.probs(wires=0)"
   ]
  },
  {
   "cell_type": "code",
   "execution_count": 58,
   "id": "cf90c77e",
   "metadata": {},
   "outputs": [],
   "source": [
    "x_zero = [1, 0]\n",
    "x_one  = [0, 1]\n",
    "x_mix1 = [1, 1]\n",
    "x_mix2 = [1,-1]"
   ]
  },
  {
   "cell_type": "code",
   "execution_count": 51,
   "id": "4091fdc5",
   "metadata": {},
   "outputs": [
    {
     "data": {
      "image/png": "[encoded data removed]",
      "text/plain": [
       "<Figure size 500x200 with 1 Axes>"
      ]
     },
     "metadata": {},
     "output_type": "display_data"
    }
   ],
   "source": [
    "fig, ax = qml.draw_mpl(hadamard_gate_comp)(x_mix)\n",
    "plt.show()"
   ]
  },
  {
   "cell_type": "code",
   "execution_count": 52,
   "id": "73018f12",
   "metadata": {},
   "outputs": [
    {
     "data": {
      "text/plain": [
       "tensor([0.5, 0.5], requires_grad=True)"
      ]
     },
     "execution_count": 52,
     "metadata": {},
     "output_type": "execute_result"
    }
   ],
   "source": [
    "hadamard_gate_comp(x_zero)"
   ]
  },
  {
   "cell_type": "code",
   "execution_count": 53,
   "id": "99d9c8ce",
   "metadata": {},
   "outputs": [
    {
     "data": {
      "text/plain": [
       "tensor([0.5, 0.5], requires_grad=True)"
      ]
     },
     "execution_count": 53,
     "metadata": {},
     "output_type": "execute_result"
    }
   ],
   "source": [
    "hadamard_gate_comp(x_one)"
   ]
  },
  {
   "cell_type": "code",
   "execution_count": 59,
   "id": "6563943a",
   "metadata": {},
   "outputs": [
    {
     "data": {
      "text/plain": [
       "tensor([1., 0.], requires_grad=True)"
      ]
     },
     "execution_count": 59,
     "metadata": {},
     "output_type": "execute_result"
    }
   ],
   "source": [
    "hadamard_gate_comp(x_mix1)"
   ]
  },
  {
   "cell_type": "code",
   "execution_count": 60,
   "id": "3107f455",
   "metadata": {},
   "outputs": [
    {
     "data": {
      "text/plain": [
       "tensor([0., 1.], requires_grad=True)"
      ]
     },
     "execution_count": 60,
     "metadata": {},
     "output_type": "execute_result"
    }
   ],
   "source": [
    "hadamard_gate_comp(x_mix2)"
   ]
  },
  {
   "cell_type": "markdown",
   "id": "1e5b98f7",
   "metadata": {},
   "source": [
    "### Same probability does not mean same state"
   ]
  },
  {
   "cell_type": "code",
   "execution_count": 55,
   "id": "4d1c599b",
   "metadata": {},
   "outputs": [],
   "source": [
    "@qml.qnode(dev1)\n",
    "def hadamard_comp_state(x):\n",
    "    x = x / np.linalg.norm(x)\n",
    "    qml.QubitStateVector(x, wires=[0])\n",
    "    qml.Hadamard(wires=0)\n",
    "    return qml.state()"
   ]
  },
  {
   "cell_type": "code",
   "execution_count": 56,
   "id": "141853fb",
   "metadata": {},
   "outputs": [
    {
     "data": {
      "text/plain": [
       "tensor([0.70710678+0.j, 0.70710678+0.j], requires_grad=True)"
      ]
     },
     "execution_count": 56,
     "metadata": {},
     "output_type": "execute_result"
    }
   ],
   "source": [
    "hadamard_comp_state(x_zero)"
   ]
  },
  {
   "cell_type": "code",
   "execution_count": 57,
   "id": "366603df",
   "metadata": {},
   "outputs": [
    {
     "data": {
      "text/plain": [
       "tensor([ 0.70710678+0.j, -0.70710678+0.j], requires_grad=True)"
      ]
     },
     "execution_count": 57,
     "metadata": {},
     "output_type": "execute_result"
    }
   ],
   "source": [
    "hadamard_comp_state(x_one)"
   ]
  },
  {
   "cell_type": "markdown",
   "id": "e139ec92",
   "metadata": {},
   "source": [
    "## CNOT Gate"
   ]
  },
  {
   "cell_type": "code",
   "execution_count": 8,
   "id": "535f0134",
   "metadata": {},
   "outputs": [],
   "source": [
    "@qml.qnode(dev2)\n",
    "def cnot_gate():\n",
    "    qml.CNOT(wires=[0,1])\n",
    "    return qml.state()"
   ]
  },
  {
   "cell_type": "code",
   "execution_count": 9,
   "id": "8e9c59c3",
   "metadata": {},
   "outputs": [
    {
     "data": {
      "image/png": "[encoded data removed]",
      "text/plain": [
       "<Figure size 400x300 with 1 Axes>"
      ]
     },
     "metadata": {},
     "output_type": "display_data"
    }
   ],
   "source": [
    "fig, ax = qml.draw_mpl(cnot_gate)()\n",
    "plt.show()"
   ]
  },
  {
   "cell_type": "code",
   "execution_count": 10,
   "id": "9a6be819",
   "metadata": {},
   "outputs": [
    {
     "data": {
      "text/plain": [
       "tensor([1.+0.j, 0.+0.j, 0.+0.j, 0.+0.j], requires_grad=True)"
      ]
     },
     "execution_count": 10,
     "metadata": {},
     "output_type": "execute_result"
    }
   ],
   "source": [
    "cnot_gate()"
   ]
  },
  {
   "cell_type": "code",
   "execution_count": null,
   "id": "da62d8ce",
   "metadata": {},
   "outputs": [],
   "source": []
  }
 ],
 "metadata": {
  "kernelspec": {
   "display_name": "Python 3 (ipykernel)",
   "language": "python",
   "name": "python3"
  },
  "language_info": {
   "codemirror_mode": {
    "name": "ipython",
    "version": 3
   },
   "file_extension": ".py",
   "mimetype": "text/x-python",
   "name": "python",
   "nbconvert_exporter": "python",
   "pygments_lexer": "ipython3",
   "version": "3.11.3"
  }
 },
 "nbformat": 4,
 "nbformat_minor": 5
}
