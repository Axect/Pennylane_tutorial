{
 "cells": [
  {
   "cell_type": "code",
   "execution_count": 1,
   "id": "608a48ae",
   "metadata": {},
   "outputs": [],
   "source": [
    "import pennylane as qml\n",
    "from pennylane import numpy as np\n",
    "import matplotlib.pyplot as plt"
   ]
  },
  {
   "cell_type": "code",
   "execution_count": 2,
   "id": "1acc3611",
   "metadata": {},
   "outputs": [],
   "source": [
    "qml.drawer.use_style('sketch')"
   ]
  },
  {
   "cell_type": "markdown",
   "id": "bc32d84f",
   "metadata": {},
   "source": [
    "## Description"
   ]
  },
  {
   "cell_type": "markdown",
   "id": "e08fe8b1",
   "metadata": {},
   "source": [
    "* Start with one wire (qumode) in the vacuum state\n",
    "\n",
    "* Displace the qumode (Linearly shifts the state of the qumode in phase space)\n",
    "\n",
    "* Rotate the qumode (Another linear transform in phase space)\n",
    "\n",
    "* Measure the photon number"
   ]
  },
  {
   "cell_type": "code",
   "execution_count": 3,
   "id": "5d0beb68",
   "metadata": {},
   "outputs": [],
   "source": [
    "dev_gaussian = qml.device(\"default.gaussian\", wires=1)"
   ]
  },
  {
   "cell_type": "code",
   "execution_count": 4,
   "id": "6f8bddab",
   "metadata": {},
   "outputs": [],
   "source": [
    "@qml.qnode(dev_gaussian)\n",
    "def mean_photon_gaussian(mag_alpha, phase_alpha, phi):\n",
    "    qml.Displacement(mag_alpha, phase_alpha, wires=0)\n",
    "    qml.Rotation(phi, wires=0)\n",
    "    return qml.expval(qml.NumberOperator(0))"
   ]
  },
  {
   "cell_type": "code",
   "execution_count": 5,
   "id": "4dcd6cc3",
   "metadata": {},
   "outputs": [
    {
     "data": {
      "image/png": "[encoded data removed]",
      "text/plain": [
       "<Figure size 500x200 with 1 Axes>"
      ]
     },
     "metadata": {},
     "output_type": "display_data"
    }
   ],
   "source": [
    "qml.draw_mpl(mean_photon_gaussian)(0, 0, 0)\n",
    "plt.show()"
   ]
  },
  {
   "cell_type": "code",
   "execution_count": 6,
   "id": "6dce1df8",
   "metadata": {},
   "outputs": [
    {
     "data": {
      "text/plain": [
       "array(0.)"
      ]
     },
     "execution_count": 6,
     "metadata": {},
     "output_type": "execute_result"
    }
   ],
   "source": [
    "mean_photon_gaussian(0,0,0)"
   ]
  },
  {
   "cell_type": "markdown",
   "id": "950f75e5",
   "metadata": {},
   "source": [
    "## Optimization"
   ]
  },
  {
   "cell_type": "code",
   "execution_count": 7,
   "id": "a6a9db0c",
   "metadata": {},
   "outputs": [],
   "source": [
    "def cost(params):\n",
    "    return (mean_photon_gaussian(params[0], params[1], params[2]) - 1.0) ** 2"
   ]
  },
  {
   "cell_type": "code",
   "execution_count": 10,
   "id": "0dd7d866",
   "metadata": {},
   "outputs": [
    {
     "name": "stdout",
     "output_type": "stream",
     "text": [
      "0.9995500506249999\n"
     ]
    }
   ],
   "source": [
    "init_params = np.array([0.015, 0.02, 0.005], requires_grad=True)\n",
    "print(cost(init_params))"
   ]
  },
  {
   "cell_type": "code",
   "execution_count": 11,
   "id": "ba736a9d",
   "metadata": {},
   "outputs": [
    {
     "name": "stdout",
     "output_type": "stream",
     "text": [
      "Cost after step     1: 0.999118\n",
      "Cost after step     2: 0.998273\n",
      "Cost after step     3: 0.996618\n",
      "Cost after step     4: 0.993382\n",
      "Cost after step     5: 0.987074\n",
      "Cost after step     6: 0.974837\n",
      "Cost after step     7: 0.951332\n",
      "Cost after step     8: 0.907043\n",
      "Cost after step     9: 0.826649\n",
      "Cost after step    10: 0.690812\n",
      "Cost after step    11: 0.490303\n",
      "Cost after step    12: 0.258845\n",
      "Cost after step    13: 0.083224\n",
      "Cost after step    14: 0.013179\n",
      "Cost after step    15: 0.001001\n",
      "Cost after step    16: 0.000049\n",
      "Cost after step    17: 0.000002\n",
      "Cost after step    18: 0.000000\n",
      "Cost after step    19: 0.000000\n",
      "Cost after step    20: 0.000000\n",
      "Optimized mag_alpha:\t0.999994\n",
      "Optimized phase_alpha:\t0.020000\n",
      "Optimized phi:\t\t0.005000\n"
     ]
    }
   ],
   "source": [
    "opt = qml.GradientDescentOptimizer(stepsize=0.1)\n",
    "\n",
    "steps = 20\n",
    "params = init_params\n",
    "\n",
    "for i in range(steps):\n",
    "    params = opt.step(cost, params)\n",
    "    print(f\"Cost after step {i+1:5d}: {cost(params):8f}\")\n",
    "\n",
    "print(f\"Optimized mag_alpha:\\t{params[0]:8f}\")\n",
    "print(f\"Optimized phase_alpha:\\t{params[1]:8f}\")\n",
    "print(f\"Optimized phi:\\t\\t{params[2]:8f}\")"
   ]
  }
 ],
 "metadata": {
  "kernelspec": {
   "display_name": "Python 3 (ipykernel)",
   "language": "python",
   "name": "python3"
  },
  "language_info": {
   "codemirror_mode": {
    "name": "ipython",
    "version": 3
   },
   "file_extension": ".py",
   "mimetype": "text/x-python",
   "name": "python",
   "nbconvert_exporter": "python",
   "pygments_lexer": "ipython3",
   "version": "3.11.3"
  }
 },
 "nbformat": 4,
 "nbformat_minor": 5
}
