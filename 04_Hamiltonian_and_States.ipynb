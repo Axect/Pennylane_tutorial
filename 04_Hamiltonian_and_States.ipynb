{
 "cells": [
  {
   "cell_type": "code",
   "execution_count": 1,
   "id": "e446d8e7-b9e2-4bc9-8530-2f4cca9c95a6",
   "metadata": {},
   "outputs": [],
   "source": [
    "import pennylane as qml\n",
    "import matplotlib.pyplot as plt\n",
    "import pennylane.numpy as np\n",
    "import numpy"
   ]
  },
  {
   "cell_type": "code",
   "execution_count": 2,
   "id": "cc825c99-57e4-478a-bdda-722801ce8d4d",
   "metadata": {},
   "outputs": [],
   "source": [
    "qml.drawer.use_style(\"sketch\")"
   ]
  },
  {
   "cell_type": "markdown",
   "id": "da432124-104e-44f8-a9aa-f8ac7f50fe52",
   "metadata": {},
   "source": [
    "## Turning a Hamiltonian term into a gate"
   ]
  },
  {
   "cell_type": "markdown",
   "id": "b8266742-6a17-4e3b-82de-f5bf8ebd62cd",
   "metadata": {},
   "source": [
    "$$\n",
    "U(H) = e^{-iHt}\n",
    "$$"
   ]
  },
  {
   "cell_type": "markdown",
   "id": "6c0b5827-ced6-4f38-94b7-ba1190f4edbb",
   "metadata": {},
   "source": [
    "### 1) $H_1 = Z$"
   ]
  },
  {
   "cell_type": "markdown",
   "id": "61ff9db0-682b-41de-bad6-e82a69549cad",
   "metadata": {},
   "source": [
    "$$\n",
    "U = e^{-iZt}\n",
    "$$\n",
    "\n",
    "We know $R_Z(\\theta) = e^{-i \\frac{\\theta}{2} Z}$, thus $U = R_Z(2t)$"
   ]
  },
  {
   "cell_type": "code",
   "execution_count": 3,
   "id": "689f68a0-d97c-4b8f-95b0-73ea476c21ba",
   "metadata": {},
   "outputs": [],
   "source": [
    "dev = qml.device(\"default.qubit\", wires=1)"
   ]
  },
  {
   "cell_type": "code",
   "execution_count": 4,
   "id": "6bc56c30-331e-4057-b2fb-9561dcf398e9",
   "metadata": {},
   "outputs": [],
   "source": [
    "@qml.qnode(dev)\n",
    "def H_Z(x, t):\n",
    "    qml.BasisStatePreparation(x, wires=[0])\n",
    "    qml.RZ(2*t, wires=0)\n",
    "    return qml.state()"
   ]
  },
  {
   "cell_type": "code",
   "execution_count": 5,
   "id": "30fde4f5-fe90-46af-8897-7ab8ce3b8106",
   "metadata": {},
   "outputs": [
    {
     "data": {
      "image/png": "[encoded data removed]",
      "text/plain": [
       "<Figure size 500x200 with 1 Axes>"
      ]
     },
     "metadata": {},
     "output_type": "display_data"
    }
   ],
   "source": [
    "qml.draw_mpl(H_Z)([0], 0)\n",
    "plt.show()"
   ]
  },
  {
   "cell_type": "markdown",
   "id": "eb054d65-f3f8-4996-969a-eea5217d868a",
   "metadata": {},
   "source": [
    "$$\n",
    "\\begin{aligned}\n",
    "e^{-iZ\\pi}|0\\rangle &= e^{-i\\pi}|0\\rangle = (\\cos\\pi - i \\sin\\pi)|0\\rangle = -|0\\rangle \\\\\n",
    "e^{-iZ\\pi}|1\\rangle &= e^{+i\\pi}|1\\rangle = (\\cos\\pi + i \\sin\\pi)|1\\rangle = -|1\\rangle\n",
    "\\end{aligned}\n",
    "$$"
   ]
  },
  {
   "cell_type": "code",
   "execution_count": 6,
   "id": "485b3d61-dfc8-42f7-b581-e7193337f18c",
   "metadata": {},
   "outputs": [
    {
     "data": {
      "text/plain": [
       "tensor([-1.-1.2246468e-16j,  0.+0.0000000e+00j], requires_grad=True)"
      ]
     },
     "execution_count": 6,
     "metadata": {},
     "output_type": "execute_result"
    }
   ],
   "source": [
    "H_Z([0], np.pi)"
   ]
  },
  {
   "cell_type": "code",
   "execution_count": 7,
   "id": "f1c93a1f-9ef1-4486-bbac-96798cb2c5fb",
   "metadata": {},
   "outputs": [
    {
     "data": {
      "text/plain": [
       "tensor([ 0.+0.0000000e+00j, -1.+1.2246468e-16j], requires_grad=True)"
      ]
     },
     "execution_count": 7,
     "metadata": {},
     "output_type": "execute_result"
    }
   ],
   "source": [
    "H_Z([1], np.pi)"
   ]
  },
  {
   "cell_type": "markdown",
   "id": "54540d5c-ab22-4083-abe8-f66cb7832371",
   "metadata": {},
   "source": [
    "### 2) $H_2 = X$"
   ]
  },
  {
   "cell_type": "markdown",
   "id": "fe6e601b-181d-4a54-961c-584b3176b257",
   "metadata": {},
   "source": [
    "$$\n",
    "H Z H = \\frac{1}{2} \\begin{pmatrix} 1 & 1 \\\\ 1 & -1 \\end{pmatrix} \\begin{pmatrix} 1 & 0 \\\\ 0 & -1 \\end{pmatrix} \\begin{pmatrix} 1 & 1 \\\\ 1 & -1 \\end{pmatrix} = \\frac{1}{2} \\begin{pmatrix} 1 & -1 \\\\ 1 & 1 \\end{pmatrix} \\begin{pmatrix} 1 & 1 \\\\ 1 & -1 \\end{pmatrix} = \\begin{pmatrix} 0 & 1 \\\\ 1 & 0 \\end{pmatrix} = X\n",
    "$$\n",
    "Thus,\n",
    "$$\n",
    "e^{-iXt} = e^{-iHZHt} = H e^{-iZt} H\n",
    "$$"
   ]
  },
  {
   "cell_type": "code",
   "execution_count": 8,
   "id": "f07e6bd7-9c9c-4529-bb3d-ecf65891d612",
   "metadata": {},
   "outputs": [],
   "source": [
    "@qml.qnode(dev)\n",
    "def H_X(x, t):\n",
    "    qml.BasisStatePreparation(x, wires=[0])\n",
    "    qml.Hadamard(wires=0)\n",
    "    qml.RZ(2*t, wires=0)\n",
    "    qml.Hadamard(wires=0)\n",
    "    return qml.state()"
   ]
  },
  {
   "cell_type": "code",
   "execution_count": 9,
   "id": "a6537bf3-7800-436a-9e28-2f79ed549608",
   "metadata": {},
   "outputs": [
    {
     "data": {
      "image/png": "[encoded data removed]",
      "text/plain": [
       "<Figure size 700x200 with 1 Axes>"
      ]
     },
     "metadata": {},
     "output_type": "display_data"
    }
   ],
   "source": [
    "qml.draw_mpl(H_X)([0],0)\n",
    "plt.show()"
   ]
  },
  {
   "cell_type": "markdown",
   "id": "87d9542b-f6ae-4a9f-91d1-f6a79e8a3016",
   "metadata": {},
   "source": [
    "$$\n",
    "\\begin{aligned}\n",
    "He^{-iZt}H|0\\rangle &= \\frac{1}{\\sqrt{2}}He^{-iZt}(|0\\rangle + |1\\rangle) = \\frac{1}{\\sqrt{2}}H(e^{-it}|0\\rangle + e^{it}|1\\rangle) = \\frac{1}{2}(e^{-it}(|0\\rangle + |1\\rangle) + e^{it}(|0\\rangle - |1\\rangle)) = \\frac{e^{it} + e^{-it}}{2}|0\\rangle - \\frac{e^{it} - e^{-it}}{2}|1\\rangle = \\cos t|0\\rangle -i\\sin t|1\\rangle \\\\\n",
    "He^{-iZt}H|1\\rangle &= \\frac{1}{\\sqrt{2}}He^{-iZt}(|0\\rangle - |1\\rangle) = \\frac{1}{\\sqrt{2}}H(e^{-it}|0\\rangle - e^{it}|1\\rangle) = \\frac{1}{2}(e^{-it}(|0\\rangle + |1\\rangle) - e^{it}(|0\\rangle - |1\\rangle)) = \\frac{e^{it} + e^{-it}}{2}|1\\rangle - \\frac{e^{it} - e^{-it}}{2}|0\\rangle = \\cos t|1\\rangle -i\\sin t|0\\rangle\n",
    "\\end{aligned}\n",
    "$$"
   ]
  },
  {
   "cell_type": "code",
   "execution_count": 10,
   "id": "6d98ef0d-3ef3-4fbc-a2f1-aa6144dd910e",
   "metadata": {},
   "outputs": [
    {
     "data": {
      "text/plain": [
       "tensor([-1.+0.0000000e+00j,  0.-1.2246468e-16j], requires_grad=True)"
      ]
     },
     "execution_count": 10,
     "metadata": {},
     "output_type": "execute_result"
    }
   ],
   "source": [
    "H_X([0], np.pi)"
   ]
  },
  {
   "cell_type": "code",
   "execution_count": 11,
   "id": "d07a72bb-f4e5-4681-bf86-e2307bb37265",
   "metadata": {},
   "outputs": [
    {
     "data": {
      "text/plain": [
       "tensor([6.123234e-17+0.j, 0.000000e+00-1.j], requires_grad=True)"
      ]
     },
     "execution_count": 11,
     "metadata": {},
     "output_type": "execute_result"
    }
   ],
   "source": [
    "H_X([0], np.pi/2)"
   ]
  },
  {
   "cell_type": "code",
   "execution_count": 12,
   "id": "6743507e-8e20-41f1-ae11-072c5a075600",
   "metadata": {},
   "outputs": [
    {
     "data": {
      "text/plain": [
       "tensor([ 0.-1.2246468e-16j, -1.+0.0000000e+00j], requires_grad=True)"
      ]
     },
     "execution_count": 12,
     "metadata": {},
     "output_type": "execute_result"
    }
   ],
   "source": [
    "H_X([1], np.pi)"
   ]
  },
  {
   "cell_type": "code",
   "execution_count": 13,
   "id": "573ca495-a9d5-46b1-bd53-e02d8330d8c8",
   "metadata": {},
   "outputs": [
    {
     "data": {
      "text/plain": [
       "tensor([0.000000e+00-1.j, 6.123234e-17+0.j], requires_grad=True)"
      ]
     },
     "execution_count": 13,
     "metadata": {},
     "output_type": "execute_result"
    }
   ],
   "source": [
    "H_X([1], np.pi/2)"
   ]
  },
  {
   "cell_type": "markdown",
   "id": "77814db5-64f7-4240-ac48-50ba4e25a51f",
   "metadata": {},
   "source": [
    "### 3) $H = Z \\otimes Z$"
   ]
  },
  {
   "cell_type": "markdown",
   "id": "d3710b49-7bdf-4797-bda8-4928a95aa46f",
   "metadata": {},
   "source": [
    "$$ e^{-i Z \\otimes Z t} = \\cos t \\mathbb{1} - i \\sin t (Z\\otimes Z) $$\n",
    "\n",
    "$$\n",
    "\\begin{aligned}\n",
    "e^{-i Z\\otimes Z t}|00\\rangle &= (\\cos t - i\\sin t)|00\\rangle = e^{-it}|00\\rangle \\\\\n",
    "e^{-i Z\\otimes Z t}|01\\rangle &= (\\cos t + i\\sin t)|01\\rangle = e^{it}|01\\rangle \\\\\n",
    "e^{-i Z\\otimes Z t}|10\\rangle &= (\\cos t + i\\sin t)|10\\rangle = e^{it}|10\\rangle \\\\\n",
    "e^{-i Z\\otimes Z t}|11\\rangle &= (\\cos t - i\\sin t)|11\\rangle = e^{-it}|11\\rangle\n",
    "\\end{aligned}\n",
    "$$"
   ]
  },
  {
   "cell_type": "markdown",
   "id": "45e64333-db81-4496-8a72-537bb00b9dfb",
   "metadata": {},
   "source": [
    "- Fix first state, only consider second state : $e^{it}$ or $e^{-it}$ $\\Rightarrow$ $e^{-iZt} = R_Z(2t)$\n",
    "- But different behavior when first state is $0$ or $1$ : $\\text{CNOT}$\n",
    "- But do not change state : Double $\\text{CNOT}$"
   ]
  },
  {
   "cell_type": "code",
   "execution_count": 14,
   "id": "4ef08499-92ac-4326-a83f-c48b784e7f1e",
   "metadata": {},
   "outputs": [],
   "source": [
    "dev2 = qml.device(\"default.qubit\", wires=2)"
   ]
  },
  {
   "cell_type": "code",
   "execution_count": 15,
   "id": "f8f5748d-da06-4731-99ad-271257d37895",
   "metadata": {},
   "outputs": [],
   "source": [
    "@qml.qnode(dev2)\n",
    "def H_ZZ(x, t):\n",
    "    qml.BasisStatePreparation(x, wires=[0,1])\n",
    "    qml.CNOT(wires=[0,1])\n",
    "    qml.RZ(2*t, wires=1)\n",
    "    qml.CNOT(wires=[0,1])\n",
    "    return qml.state()"
   ]
  },
  {
   "cell_type": "code",
   "execution_count": 16,
   "id": "d1dd0889-f0d5-4209-aecb-12fc1ccc9dad",
   "metadata": {},
   "outputs": [
    {
     "data": {
      "image/png": "[encoded data removed]",
      "text/plain": [
       "<Figure size 700x300 with 1 Axes>"
      ]
     },
     "metadata": {},
     "output_type": "display_data"
    }
   ],
   "source": [
    "qml.draw_mpl(H_ZZ)([0,0], 0)\n",
    "plt.show()"
   ]
  },
  {
   "cell_type": "code",
   "execution_count": 17,
   "id": "77fd9acf-4a54-47fe-859c-939c205c3c95",
   "metadata": {},
   "outputs": [
    {
     "data": {
      "text/plain": [
       "tensor([6.123234e-17-1.j, 0.000000e+00+0.j, 0.000000e+00+0.j,\n",
       "        0.000000e+00+0.j], requires_grad=True)"
      ]
     },
     "execution_count": 17,
     "metadata": {},
     "output_type": "execute_result"
    }
   ],
   "source": [
    "H_ZZ([0,0], np.pi/2)"
   ]
  },
  {
   "cell_type": "code",
   "execution_count": 18,
   "id": "d27d1499-f3d4-4385-8ac2-7d6054932ce4",
   "metadata": {},
   "outputs": [
    {
     "data": {
      "text/plain": [
       "tensor([0.000000e+00+0.j, 6.123234e-17+1.j, 0.000000e+00+0.j,\n",
       "        0.000000e+00+0.j], requires_grad=True)"
      ]
     },
     "execution_count": 18,
     "metadata": {},
     "output_type": "execute_result"
    }
   ],
   "source": [
    "H_ZZ([0,1], np.pi/2)"
   ]
  },
  {
   "cell_type": "code",
   "execution_count": 19,
   "id": "df05f8d0-4400-464f-9251-0e6a3fe2f307",
   "metadata": {},
   "outputs": [
    {
     "data": {
      "text/plain": [
       "tensor([0.000000e+00+0.j, 0.000000e+00+0.j, 6.123234e-17+1.j,\n",
       "        0.000000e+00+0.j], requires_grad=True)"
      ]
     },
     "execution_count": 19,
     "metadata": {},
     "output_type": "execute_result"
    }
   ],
   "source": [
    "H_ZZ([1,0], np.pi/2)"
   ]
  },
  {
   "cell_type": "code",
   "execution_count": 20,
   "id": "e799c5b0-0a21-42b0-9d4e-18cc7ff608d5",
   "metadata": {},
   "outputs": [
    {
     "data": {
      "text/plain": [
       "tensor([0.000000e+00+0.j, 0.000000e+00+0.j, 0.000000e+00+0.j,\n",
       "        6.123234e-17-1.j], requires_grad=True)"
      ]
     },
     "execution_count": 20,
     "metadata": {},
     "output_type": "execute_result"
    }
   ],
   "source": [
    "H_ZZ([1,1], np.pi/2)"
   ]
  },
  {
   "cell_type": "markdown",
   "id": "39d9fe15-fbe4-4f84-b76d-810ec677176c",
   "metadata": {},
   "source": [
    "## Overlap of Quantum States"
   ]
  },
  {
   "cell_type": "markdown",
   "id": "7a7d6594-2e4d-4674-bfe3-2b222854dd40",
   "metadata": {},
   "source": [
    "### 1) SWAP Test"
   ]
  },
  {
   "cell_type": "markdown",
   "id": "e2ffacaf-0eca-4420-9269-6857b61b509b",
   "metadata": {},
   "source": [
    "**Q.** Is a way to extract $|\\langle a | b\\rangle|^2$ of tensor product state $|a\\rangle \\otimes |b\\rangle = |a\\rangle |b\\rangle$?"
   ]
  },
  {
   "cell_type": "markdown",
   "id": "a1908d10-92fc-47ff-b753-3edd66fce664",
   "metadata": {},
   "source": [
    "**A.** \"Ancilla qubit\"\n",
    "\n",
    "1. $|0\\rangle |a\\rangle |b\\rangle$\n",
    "2. $(H|0\\rangle) |a\\rangle |b\\rangle = \\dfrac{1}{\\sqrt{2}}(|0\\rangle + |1\\rangle) |a\\rangle |b\\rangle$\n",
    "3. Apply SWAP gate to $|a\\rangle |b\\rangle$ when ancilla qubit is $|1\\rangle$\n",
    "4. Apply one more Hadamard gate to ancilla : $\\dfrac{1}{2}|0\\rangle (|a\\rangle |b\\rangle + |b\\rangle|a\\rangle) + \\dfrac{1}{2}|1\\rangle (|a\\rangle |b\\rangle - |b\\rangle|a\\rangle)$\n",
    "5. Measure ancilla.\n",
    "   $$ P(|x\\rangle = |0\\rangle) \\equiv p_0 = \\frac{1}{4}(\\langle a| \\langle b| + \\langle b|\\langle a|)(|a\\rangle |b\\rangle + |b\\rangle|a\\rangle) = \\frac{1}{4} (1 + \\langle a|b\\rangle \\langle b|a\\rangle + \\langle b|a\\rangle\\langle a|b\\rangle + 1) = \\frac{1}{2} + \\frac{1}{2}|\\langle a | b\\rangle|^2$$\n",
    "6. Compute $|\\langle a | b\\rangle|^2 = 2p_0 - 1$"
   ]
  },
  {
   "cell_type": "code",
   "execution_count": 21,
   "id": "868fcc3c-f59e-4a91-aa8b-2396be5dfa7b",
   "metadata": {},
   "outputs": [],
   "source": [
    "wires = ['a', 'q1', 'q2']\n",
    "dev3 = qml.device(\"default.qubit\", wires=wires)"
   ]
  },
  {
   "cell_type": "code",
   "execution_count": 22,
   "id": "d39ce4ff-6560-4883-8e0e-82ba4fcd4f6d",
   "metadata": {},
   "outputs": [],
   "source": [
    "@qml.qnode(dev3)\n",
    "@qml.transforms.merge_amplitude_embedding\n",
    "def swap_test_circuit(a, b):\n",
    "    qml.AmplitudeEmbedding(a, wires='q1', normalize=True)\n",
    "    qml.AmplitudeEmbedding(b, wires='q2', normalize=True)\n",
    "    qml.Barrier(wires=wires)\n",
    "    qml.Hadamard(wires='a')\n",
    "    qml.CSWAP(wires=wires)\n",
    "    qml.Hadamard(wires='a')\n",
    "    return qml.probs(wires='a')"
   ]
  },
  {
   "cell_type": "markdown",
   "id": "42997c88-3429-41b7-b442-a329854c80c1",
   "metadata": {},
   "source": [
    "$$\n",
    "|a\\rangle = \\frac{1}{\\sqrt{2}}(|0\\rangle + |1\\rangle),~ |b\\rangle = |0\\rangle\n",
    "$$"
   ]
  },
  {
   "cell_type": "code",
   "execution_count": 23,
   "id": "886e298c-ab6f-4054-8d10-35390febd394",
   "metadata": {},
   "outputs": [
    {
     "data": {
      "image/png": "[encoded data removed]",
      "text/plain": [
       "<Figure size 800x400 with 1 Axes>"
      ]
     },
     "metadata": {},
     "output_type": "display_data"
    }
   ],
   "source": [
    "a = np.array([1, 1])\n",
    "b = np.array([1, 0])\n",
    "qml.draw_mpl(swap_test_circuit)(a, b)\n",
    "plt.show()"
   ]
  },
  {
   "cell_type": "code",
   "execution_count": 24,
   "id": "123be874-0c5b-443e-af5e-7f2afa51b699",
   "metadata": {},
   "outputs": [
    {
     "data": {
      "text/plain": [
       "tensor([0.75, 0.25], requires_grad=True)"
      ]
     },
     "execution_count": 24,
     "metadata": {},
     "output_type": "execute_result"
    }
   ],
   "source": [
    "swap_test_circuit(a, b)"
   ]
  },
  {
   "cell_type": "code",
   "execution_count": 25,
   "id": "d65113b7-887d-4a1f-9668-86d9053c554b",
   "metadata": {},
   "outputs": [],
   "source": [
    "def swap_test(a, b):\n",
    "    p0 = swap_test_circuit(a, b)[0]\n",
    "    return 2*p0 - 1"
   ]
  },
  {
   "cell_type": "code",
   "execution_count": 26,
   "id": "b9923e7e-7238-4c0a-bd1a-4c990bb3e662",
   "metadata": {},
   "outputs": [
    {
     "data": {
      "text/plain": [
       "tensor(0.5, requires_grad=True)"
      ]
     },
     "execution_count": 26,
     "metadata": {},
     "output_type": "execute_result"
    }
   ],
   "source": [
    "swap_test(a, b)"
   ]
  },
  {
   "cell_type": "code",
   "execution_count": 27,
   "id": "fd27a1e8-3dac-4680-8466-08da4607a0c9",
   "metadata": {},
   "outputs": [],
   "source": [
    "def cos_sin_state(theta):\n",
    "    return np.array([np.cos(theta), np.sin(theta)])\n",
    "\n",
    "def sin_cos_state(theta):\n",
    "    return np.array([np.sin(theta), np.cos(theta)])"
   ]
  },
  {
   "cell_type": "markdown",
   "id": "359fdb99-f51f-4b5f-94ca-a5f1576d11d4",
   "metadata": {},
   "source": [
    "$$\n",
    "\\sin \\alpha \\cos\\beta + \\cos\\alpha \\sin\\beta = \\sin(\\alpha + \\beta)\n",
    "$$"
   ]
  },
  {
   "cell_type": "code",
   "execution_count": 28,
   "id": "0ed626d5-3ca9-4073-9cf7-17f0f020882b",
   "metadata": {},
   "outputs": [
    {
     "data": {
      "text/plain": [
       "tensor(0.5, requires_grad=True)"
      ]
     },
     "execution_count": 28,
     "metadata": {},
     "output_type": "execute_result"
    }
   ],
   "source": [
    "a = sin_cos_state(np.pi / 12)\n",
    "b = cos_sin_state(np.pi / 6)\n",
    "\n",
    "swap_test(a, b) # (1/sqrt(2))^2 = 1/2"
   ]
  },
  {
   "cell_type": "markdown",
   "id": "3ed79366-562f-4162-99d3-ed220e405a81",
   "metadata": {},
   "source": [
    "### 2) Hadamard Test"
   ]
  },
  {
   "cell_type": "markdown",
   "id": "7971edb4-c3ed-4ee6-9918-d5729c7cf8bd",
   "metadata": {},
   "source": [
    "**Q.** Is a more elegant way to measure overlap/scalar product of quantum states?"
   ]
  },
  {
   "cell_type": "markdown",
   "id": "15a2f8fe-56f1-40e2-a7de-cf1eb4b289e5",
   "metadata": {},
   "source": [
    "**A.** **Hadamard Test**\n",
    "1. Prepare two qubits: one is an ancilla and the other is $|\\psi\\rangle$. We want to compute $\\langle \\phi | \\psi \\rangle$.\n",
    "\n",
    "2. Apply $H$ to ancilla qubit:\n",
    "   $$ (H|0\\rangle)\\otimes |\\psi\\rangle = |+\\rangle \\otimes |\\psi\\rangle = \\dfrac{1}{\\sqrt{2}}(|0\\rangle + |1\\rangle) \\otimes |\\psi\\rangle $$\n",
    "\n",
    "3. Choose an unitary operator $U$ such that $U|\\psi\\rangle = |\\phi\\rangle$ and, apply $\\text{CU}$ on $|\\psi\\rangle$:\n",
    "   $$ \\frac{1}{\\sqrt{2}} (|0\\rangle \\otimes |\\psi\\rangle + |1\\rangle \\otimes U |\\psi\\rangle) = \\frac{1}{\\sqrt{2}}(|0\\rangle \\otimes |\\psi\\rangle + |1\\rangle \\otimes |\\phi\\rangle)$$\n",
    "\n",
    "4. Apply $H$ to ancilla qubit: $\\dfrac{1}{2}(|0\\rangle \\otimes (|\\psi\\rangle + |\\phi\\rangle) + |1\\rangle \\otimes (\\psi\\rangle - |\\phi\\rangle))$\n",
    "\n",
    "5. Measure the probability that ancilla qubit is in zero :\n",
    "   $$ p_0 = \\frac{1}{4} (2 + \\langle \\psi | \\phi \\rangle + \\langle \\phi | \\psi \\rangle) = \\frac{1}{2} + \\frac{1}{2} \\text{Re}(\\langle \\phi | \\psi \\rangle) $$\n",
    "\n",
    "6. Repeat 2 to 5 but with $\\dfrac{1}{\\sqrt{2}}(|0\\rangle - i|1\\rangle) \\otimes |\\psi\\rangle$ :\n",
    "   $$\n",
    "   \\begin{aligned}\n",
    "   &\\frac{1}{\\sqrt{2}}(|0\\rangle \\otimes |\\psi\\rangle -i |1\\rangle \\otimes |\\phi\\rangle) \\overset{H}{\\Rightarrow} \\frac{1}{2}(|0\\rangle \\otimes (|\\psi\\rangle -i |\\phi\\rangle) + |1\\rangle \\otimes (|\\psi\\rangle + i|\\phi\\rangle)) \\\\\n",
    "   \\Rightarrow ~&p_0' = \\frac{1}{4}(2 + i(\\langle \\phi | \\psi \\rangle - \\langle \\psi | \\phi \\rangle)) = \\frac{1}{2} - \\frac{1}{2}\\text{Im}(\\langle \\phi | \\psi \\rangle)\n",
    "   \\end{aligned}\n",
    "   $$\n",
    "\n",
    "7. Therefore, the inner product is :\n",
    "   $$\n",
    "   \\langle \\phi | \\psi \\rangle = 2 (p_0 - p_0')\n",
    "   $$"
   ]
  },
  {
   "cell_type": "code",
   "execution_count": 29,
   "id": "11c1ae62-315c-4172-be7d-2703e7d86144",
   "metadata": {},
   "outputs": [],
   "source": [
    "dev_HT = qml.device(\"default.qubit\", wires=['a', 'q'])"
   ]
  },
  {
   "cell_type": "markdown",
   "id": "9ad07a17-fae9-442f-8623-3c8d9c3de45a",
   "metadata": {},
   "source": [
    "Prepare input states.\n",
    "\n",
    "$$\n",
    "|\\phi\\rangle \\equiv R_y(2\\theta)|\\psi\\rangle = \\begin{pmatrix} \\cos\\theta & -\\sin\\theta \\\\ \\sin\\theta & \\cos\\theta \\end{pmatrix} \\begin{pmatrix} |0_\\psi\\rangle \\equiv \\cos\\psi \\\\ |1_\\psi\\rangle \\equiv \\sin\\psi \\end{pmatrix} = \\begin{pmatrix} \\cos(\\theta + \\psi) \\\\ \\sin(\\theta + \\psi) \\end{pmatrix} \\equiv \\begin{pmatrix} \\sin \\phi \\\\ \\cos \\phi \\end{pmatrix}\n",
    "$$\n",
    "\n",
    "$$\n",
    "\\theta = \\frac{\\pi}{2} - \\psi - \\phi\n",
    "$$"
   ]
  },
  {
   "cell_type": "code",
   "execution_count": 30,
   "id": "efa6cf36-22a6-4ef0-b84c-b0de1355a7b8",
   "metadata": {},
   "outputs": [],
   "source": [
    "@qml.qnode(dev_HT)\n",
    "def hadamard_test_circuit(imaginary: bool, psi: float, phi: float):\n",
    "    theta = np.pi / 2 - psi - phi\n",
    "    qml.AmplitudeEmbedding(cos_sin_state(psi), wires='q')\n",
    "    qml.Hadamard(wires='a')\n",
    "    if imaginary:\n",
    "        qml.S(wires='a')\n",
    "        qml.PauliZ(wires='a')\n",
    "    qml.CRY(2 * theta, wires=['a', 'q'])\n",
    "    qml.Hadamard(wires='a')\n",
    "    return qml.probs(wires='a')"
   ]
  },
  {
   "cell_type": "code",
   "execution_count": 31,
   "id": "faae63ba-15b5-428b-a9e8-f8c68bd5746c",
   "metadata": {},
   "outputs": [
    {
     "data": {
      "image/png": "[encoded data removed]",
      "text/plain": [
       "<Figure size 600x300 with 1 Axes>"
      ]
     },
     "metadata": {},
     "output_type": "display_data"
    }
   ],
   "source": [
    "qml.draw_mpl(hadamard_test_circuit)(False, np.pi/6, np.pi/12)\n",
    "plt.show()"
   ]
  },
  {
   "cell_type": "code",
   "execution_count": 32,
   "id": "71e5454c-f4d4-4ac5-80f0-f9d2d29a9d28",
   "metadata": {},
   "outputs": [
    {
     "data": {
      "image/png": "[encoded data removed]",
      "text/plain": [
       "<Figure size 800x300 with 1 Axes>"
      ]
     },
     "metadata": {},
     "output_type": "display_data"
    }
   ],
   "source": [
    "qml.draw_mpl(hadamard_test_circuit)(True, np.pi/6, np.pi/12)\n",
    "plt.show()"
   ]
  },
  {
   "cell_type": "code",
   "execution_count": 33,
   "id": "bb332ece-0cae-431a-831b-aae09bf2d558",
   "metadata": {},
   "outputs": [],
   "source": [
    "def inner_product_ht(psi, phi):\n",
    "    p0 = hadamard_test_circuit(False, psi, phi)[0]\n",
    "    p0_prime = hadamard_test_circuit(True, psi, phi)[0]\n",
    "    return 2 * (p0 - p0_prime)"
   ]
  },
  {
   "cell_type": "code",
   "execution_count": 34,
   "id": "54b4fec8-445a-4c14-acb1-6d505ddd49a3",
   "metadata": {},
   "outputs": [
    {
     "data": {
      "text/plain": [
       "tensor(0.70710678, requires_grad=True)"
      ]
     },
     "execution_count": 34,
     "metadata": {},
     "output_type": "execute_result"
    }
   ],
   "source": [
    "inner_product_ht(np.pi/6, np.pi/12)"
   ]
  },
  {
   "cell_type": "code",
   "execution_count": 35,
   "id": "cf053e67-f34e-4104-9a15-6e78a2b7cdc2",
   "metadata": {},
   "outputs": [
    {
     "data": {
      "text/plain": [
       "0.7071067811865475"
      ]
     },
     "execution_count": 35,
     "metadata": {},
     "output_type": "execute_result"
    }
   ],
   "source": [
    "1 / np.sqrt(2)"
   ]
  }
 ],
 "metadata": {
  "kernelspec": {
   "display_name": "Python 3 (ipykernel)",
   "language": "python",
   "name": "python3"
  },
  "language_info": {
   "codemirror_mode": {
    "name": "ipython",
    "version": 3
   },
   "file_extension": ".py",
   "mimetype": "text/x-python",
   "name": "python",
   "nbconvert_exporter": "python",
   "pygments_lexer": "ipython3",
   "version": "3.11.3"
  }
 },
 "nbformat": 4,
 "nbformat_minor": 5
}
