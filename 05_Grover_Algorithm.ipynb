{
 "cells": [
  {
   "cell_type": "code",
   "execution_count": 1,
   "id": "6136941e-58cd-4797-a519-7712a5d9c3c1",
   "metadata": {},
   "outputs": [],
   "source": [
    "import pennylane as qml\n",
    "import matplotlib.pyplot as plt\n",
    "import numpy as np"
   ]
  },
  {
   "cell_type": "markdown",
   "id": "b1e14fec-9318-4d61-8bd0-3900d4796f00",
   "metadata": {},
   "source": [
    "## Describe the algorithm"
   ]
  },
  {
   "cell_type": "markdown",
   "id": "915c1bc0-8995-48e6-9cde-533ad6ba37ea",
   "metadata": {},
   "source": [
    "**Grover's algorithm** refers to a quantum algorithm for unstructured search that finds with high probability the unique input to a black box function that produces a particular output value, using just $O(\\sqrt{N})$ evaluations of the function.\n",
    "\n",
    "This problem in classical computation cannot be solved in fewer than $O(N)$ evaluations, but in quantum computing it can be achieved.\n",
    "\n",
    "**Problem**\n",
    "> Consider a function $f: \\{0,1,\\cdots,N-1\\} \\rightarrow \\{0, 1\\}$ such that\n",
    "> $$ f(x) = \\begin{cases} 1 & \\text{for } x = \\omega \\\\ 0 & \\text{else}\\end{cases} $$\n",
    "> The goal is to identify $\\omega$.\n",
    "\n",
    "**Method**\n",
    "\n",
    "> To describe it in QC, we represent $f$ as a unitary operator $U_\\omega$ such that\n",
    "> $$ \\begin{cases} U_\\omega |x\\rangle = -|x \\rangle & \\text{for } x = \\omega \\\\ U_\\omega |x\\rangle = |x \\rangle & \\text{else} \\end{cases} $$\n",
    "> It uses $N$-dimensional state space $\\mathcal{H}$ with $n=[\\log_2 N]$ qubits. This is often written as\n",
    "> $$ U_\\omega |x\\rangle = (-1)^{f(x)}|x \\rangle $$\n",
    "> Alternatively, (in practice) we can represent it as follows:\n",
    "> $$ U_f: |x\\rangle \\otimes |q\\rangle \\rightarrow |x\\rangle \\otimes |q \\oplus f(x)\\rangle $$"
   ]
  },
  {
   "cell_type": "code",
   "execution_count": null,
   "id": "8ebd3e38-ec54-41ab-91fa-15a7ffd9e8fb",
   "metadata": {},
   "outputs": [],
   "source": []
  }
 ],
 "metadata": {
  "kernelspec": {
   "display_name": "Python 3 (ipykernel)",
   "language": "python",
   "name": "python3"
  },
  "language_info": {
   "codemirror_mode": {
    "name": "ipython",
    "version": 3
   },
   "file_extension": ".py",
   "mimetype": "text/x-python",
   "name": "python",
   "nbconvert_exporter": "python",
   "pygments_lexer": "ipython3",
   "version": "3.11.3"
  }
 },
 "nbformat": 4,
 "nbformat_minor": 5
}
