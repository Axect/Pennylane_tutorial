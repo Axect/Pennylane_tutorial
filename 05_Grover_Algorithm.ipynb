{
 "cells": [
  {
   "cell_type": "code",
   "execution_count": 1,
   "id": "6136941e-58cd-4797-a519-7712a5d9c3c1",
   "metadata": {},
   "outputs": [],
   "source": [
    "import pennylane as qml\n",
    "import matplotlib.pyplot as plt\n",
    "import numpy as np"
   ]
  },
  {
   "cell_type": "markdown",
   "id": "b1e14fec-9318-4d61-8bd0-3900d4796f00",
   "metadata": {},
   "source": [
    "## Describe the algorithm"
   ]
  },
  {
   "cell_type": "markdown",
   "id": "915c1bc0-8995-48e6-9cde-533ad6ba37ea",
   "metadata": {},
   "source": [
    "**Grover's algorithm** refers to a quantum algorithm for unstructured search that finds with high probability the unique input to a black box function that produces a particular output value, using just $O(\\sqrt{N})$ evaluations of the function.\n",
    "\n",
    "This problem in classical computation cannot be solved in fewer than $O(N)$ evaluations, but in quantum computing it can be achieved.\n",
    "\n",
    "**Problem**\n",
    "> Consider a function $f: \\{0,1,\\cdots,N-1\\} \\rightarrow \\{0, 1\\}$ such that\n",
    "> $$ f(x) = \\begin{cases} 1 & \\text{for } x = \\omega \\\\ 0 & \\text{else}\\end{cases} $$\n",
    "> The goal is to identify $\\omega$.\n",
    "\n",
    "**Method**\n",
    "1. To describe it in QC, we represent $f$ as a unitary operator $U_\\omega$ such that\n",
    "   $$\n",
    "   \\begin{cases}\n",
    "   U_\\omega |x\\rangle = -|x \\rangle & \\text{for } x = \\omega \\\\\n",
    "   U_\\omega |x\\rangle = |x \\rangle & \\text{else}\n",
    "   \\end{cases}\n",
    "   $$\n",
    "   It uses $N$-dimensional state space $\\mathcal{H}$ with $n=[\\log_2 N]$ qubits. This is often written as\n",
    "   $$ U_\\omega |x\\rangle = (-1)^{f(x)}|x \\rangle $$"
   ]
  }
 ],
 "metadata": {
  "kernelspec": {
   "display_name": "Python 3 (ipykernel)",
   "language": "python",
   "name": "python3"
  },
  "language_info": {
   "codemirror_mode": {
    "name": "ipython",
    "version": 3
   },
   "file_extension": ".py",
   "mimetype": "text/x-python",
   "name": "python",
   "nbconvert_exporter": "python",
   "pygments_lexer": "ipython3",
   "version": "3.11.3"
  }
 },
 "nbformat": 4,
 "nbformat_minor": 5
}
